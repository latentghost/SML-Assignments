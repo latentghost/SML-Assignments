{
 "cells": [
  {
   "cell_type": "code",
   "execution_count": 1,
   "metadata": {},
   "outputs": [],
   "source": [
    "import numpy as np\n",
    "import pandas as pd"
   ]
  },
  {
   "cell_type": "code",
   "execution_count": 2,
   "metadata": {},
   "outputs": [],
   "source": [
    "readdata = pd.read_csv(\"../dataset/real_estate.csv\")\n",
    "data = readdata.to_numpy()\n",
    "\n",
    "labels = data[:,-1]\n",
    "data = data[:,1:-1]"
   ]
  },
  {
   "cell_type": "markdown",
   "metadata": {},
   "source": [
    "### Linear Regression\n",
    "Normal equation approach to Linear Regression derives &Theta; such that the sum of squared errors between the predicted values *Y_pred* and the true values *Y_true* is minimised i.e.  \n",
    "&nbsp;&nbsp;&nbsp;&nbsp;&nbsp;&nbsp;&nbsp;&nbsp;&nbsp;&nbsp;&nbsp;&nbsp;&nbsp;argmin<sub>**&Theta;**</sub> (*X_test* **.** **&Theta;** - *Y_test*)<sup>2</sup>  \n",
    "\n",
    "Taking the derivative w.r.t **&Theta;**:  \n",
    "&nbsp;&nbsp;&nbsp;&nbsp;&nbsp;&nbsp;&nbsp;&nbsp;&nbsp;&nbsp;&nbsp;&nbsp;&nbsp;**X**<sup>T</sup> **.** **X** **.** **&Theta;** = **X**<sup>T</sup> **.** **Y**  \n",
    "\n",
    "Solving for **&Theta;**:  \n",
    "&nbsp;&nbsp;&nbsp;&nbsp;&nbsp;&nbsp;&nbsp;&nbsp;&nbsp;&nbsp;&nbsp;&nbsp;&nbsp;**&Theta;** = (**X**<sup>T</sup> **.** **X**)<sup>-1</sup> **.** **X**<sup>T</sup> **.** **Y**"
   ]
  },
  {
   "cell_type": "code",
   "execution_count": 3,
   "metadata": {},
   "outputs": [],
   "source": [
    "def linear_regression(X,Y):\n",
    "    theta = np.linalg.inv(X.T.dot(X)) @ (X.T.dot(Y))\n",
    "    return theta"
   ]
  },
  {
   "cell_type": "markdown",
   "metadata": {},
   "source": [
    "### R<sup>2</sup> score\n",
    "R<sup>2</sup> = 1 - RSS/TSS  \n",
    "\n",
    "RSS = **&Sigma;**<sub>i=1</sub><sup>n</sup> (*y<sub>i</sub> - b<sub>0</sub> - b<sub>1</sub>x<sub>i</sub>*)<sup>2</sup>  \n",
    "\n",
    "TSS = **&Sigma;**<sub>i=1</sub><sup>n</sup> (*y<sub>i</sub> - y*)<sup>2</sup> &nbsp;&nbsp;&nbsp;&nbsp;&nbsp;&nbsp; where *y* represents mean of true values"
   ]
  },
  {
   "cell_type": "code",
   "execution_count": 4,
   "metadata": {},
   "outputs": [],
   "source": [
    "def r2(true,pred):\n",
    "    rss = np.sum((true - pred)**2)\n",
    "    tss = np.sum((true - np.mean(true))**2)\n",
    "    return (1-rss/tss)"
   ]
  },
  {
   "cell_type": "markdown",
   "metadata": {},
   "source": [
    "### RMSE\n",
    "RMSE = &radic;(**&Sigma;**<sub>i=1</sub><sup>n</sup> (*y<sub>i</sub><sup>Actual</sup> - y<sub>i</sub><sup>Predicted</sup>*)<sup>2</sup> / n)"
   ]
  },
  {
   "cell_type": "code",
   "execution_count": 5,
   "metadata": {},
   "outputs": [],
   "source": [
    "def rmse(true,pred):\n",
    "    return np.sqrt(np.mean((true-pred)**2))"
   ]
  },
  {
   "cell_type": "code",
   "execution_count": 6,
   "metadata": {},
   "outputs": [
    {
     "name": "stdout",
     "output_type": "stream",
     "text": [
      "R2 score:  0.6056999254826609\n",
      "RMSE:  7.745523524526421\n"
     ]
    }
   ],
   "source": [
    "# train-test split\n",
    "split = 0.8\n",
    "X = data[:int(split*len(data)),:]\n",
    "X_test = data[int(split*len(data)):,:]\n",
    "Y = labels[:int(split*len(data))]\n",
    "Y_test = labels[int(split*len(data)):]\n",
    "\n",
    "theta = linear_regression(X,Y)\n",
    "\n",
    "pred = X_test.dot(theta)\n",
    "\n",
    "r2_score = r2(Y_test,pred)\n",
    "print(\"R2 score: \",r2_score)\n",
    "\n",
    "rmse_score = rmse(Y_test,pred)\n",
    "print(\"RMSE: \",rmse_score)"
   ]
  }
 ],
 "metadata": {
  "interpreter": {
   "hash": "aee8b7b246df8f9039afb4144a1f6fd8d2ca17a180786b69acc140d282b71a49"
  },
  "kernelspec": {
   "display_name": "Python 3.10.4 64-bit",
   "language": "python",
   "name": "python3"
  },
  "language_info": {
   "codemirror_mode": {
    "name": "ipython",
    "version": 3
   },
   "file_extension": ".py",
   "mimetype": "text/x-python",
   "name": "python",
   "nbconvert_exporter": "python",
   "pygments_lexer": "ipython3",
   "version": "3.10.4"
  },
  "orig_nbformat": 4
 },
 "nbformat": 4,
 "nbformat_minor": 2
}
