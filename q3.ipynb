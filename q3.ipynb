{
 "cells": [
  {
   "cell_type": "code",
   "execution_count": 74,
   "metadata": {},
   "outputs": [],
   "source": [
    "import numpy as np\n",
    "import pandas as pd\n"
   ]
  },
  {
   "cell_type": "code",
   "execution_count": 75,
   "metadata": {},
   "outputs": [],
   "source": [
    "readdata = pd.read_csv(\"../dataset/real_estate.csv\")\n",
    "data = readdata.to_numpy()\n",
    "\n",
    "labels = data[:,-1]\n",
    "data = data[:,1:-1]"
   ]
  },
  {
   "cell_type": "code",
   "execution_count": 76,
   "metadata": {},
   "outputs": [],
   "source": [
    "def linear_regression(X,Y):\n",
    "    theta = np.linalg.inv(X.T.dot(X)) @ (X.T.dot(Y))\n",
    "    return theta"
   ]
  },
  {
   "cell_type": "code",
   "execution_count": 77,
   "metadata": {},
   "outputs": [],
   "source": [
    "def r2(true,pred):\n",
    "    rss = np.sum((true - pred)**2)\n",
    "    tss = np.sum((true - np.mean(true))**2)\n",
    "    return (1-rss/tss)"
   ]
  },
  {
   "cell_type": "code",
   "execution_count": 78,
   "metadata": {},
   "outputs": [],
   "source": [
    "def rmse(true,pred):\n",
    "    return np.sqrt(np.mean((true-pred)**2))"
   ]
  },
  {
   "cell_type": "code",
   "execution_count": 79,
   "metadata": {},
   "outputs": [
    {
     "name": "stdout",
     "output_type": "stream",
     "text": [
      "R2 score:  0.6056999254826609\n",
      "RMSE:  7.745523524526421\n"
     ]
    }
   ],
   "source": [
    "split = 0.8\n",
    "X = data[:int(split*len(data)),:]\n",
    "X_test = data[int(split*len(data)):,:]\n",
    "Y = labels[:int(split*len(data))]\n",
    "Y_test = labels[int(split*len(data)):]\n",
    "\n",
    "theta = linear_regression(X,Y)\n",
    "\n",
    "pred = X_test.dot(theta)\n",
    "\n",
    "r2_score = r2(Y_test,pred)\n",
    "print(\"R2 score: \",r2_score)\n",
    "\n",
    "rmse_score = rmse(Y_test,pred)\n",
    "print(\"RMSE: \",rmse_score)"
   ]
  }
 ],
 "metadata": {
  "interpreter": {
   "hash": "aee8b7b246df8f9039afb4144a1f6fd8d2ca17a180786b69acc140d282b71a49"
  },
  "kernelspec": {
   "display_name": "Python 3.10.4 64-bit",
   "language": "python",
   "name": "python3"
  },
  "language_info": {
   "codemirror_mode": {
    "name": "ipython",
    "version": 3
   },
   "file_extension": ".py",
   "mimetype": "text/x-python",
   "name": "python",
   "nbconvert_exporter": "python",
   "pygments_lexer": "ipython3",
   "version": "3.10.4"
  },
  "orig_nbformat": 4
 },
 "nbformat": 4,
 "nbformat_minor": 2
}
