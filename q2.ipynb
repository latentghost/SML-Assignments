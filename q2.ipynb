{
 "cells": [
  {
   "cell_type": "code",
   "execution_count": 258,
   "metadata": {},
   "outputs": [],
   "source": [
    "import numpy as np\n",
    "import pandas as pd\n",
    "from sklearn.metrics import accuracy_score"
   ]
  },
  {
   "cell_type": "code",
   "execution_count": 259,
   "metadata": {},
   "outputs": [],
   "source": [
    "readdata = pd.read_csv(\"../dataset/heart.csv\")\n",
    "\n",
    "mapping = {value: index for index, value in enumerate(readdata['ChestPain'].unique())}\n",
    "readdata['ChestPain'] = readdata['ChestPain'].map(mapping)\n",
    "\n",
    "mapping = {value: index for index, value in enumerate(readdata['Thal'].unique())}\n",
    "readdata['Thal'] = readdata['Thal'].map(mapping)\n",
    "\n",
    "readdata.loc[readdata['AHD']=='No','AHD'] = 0\n",
    "readdata.loc[readdata['AHD']=='Yes','AHD'] = 1\n",
    "\n",
    "readdata.dropna(inplace=True)\n",
    "\n",
    "data = readdata.to_numpy()\n",
    "data = data[:,1:].astype('float64')\n",
    "\n",
    "k = 10"
   ]
  },
  {
   "cell_type": "code",
   "execution_count": 260,
   "metadata": {},
   "outputs": [],
   "source": [
    "def fda(tmp,labels):\n",
    "\n",
    "    class0 = tmp[labels==0]\n",
    "    class1 = tmp[labels==1]\n",
    "\n",
    "    cent = np.zeros((2,tmp.shape[1]))\n",
    "    cent[0] = np.mean(class0,axis=0)\n",
    "    cent[1] = np.mean(class1,axis=0)\n",
    "\n",
    "    sw = np.zeros((tmp.shape[1],tmp.shape[1]))\n",
    "    for j in range(2):\n",
    "        s_j = np.zeros((tmp.shape[1],tmp.shape[1]))\n",
    "        for row in tmp[labels==j]:\n",
    "            row = row.reshape(-1,1)\n",
    "            mean = cent[j].reshape(-1,1)\n",
    "            t = (row-mean).dot((row-mean).T).astype('float64')\n",
    "            s_j += t\n",
    "        sw += s_j\n",
    "\n",
    "    mean0 = cent[0].reshape(-1,1)\n",
    "    mean1 = cent[1].reshape(-1,1)\n",
    "\n",
    "    sb = (mean0 - mean1).dot((mean0 - mean1).T)\n",
    "    \n",
    "    evals,evecs = np.linalg.eig((np.linalg.inv(sw))@sb)\n",
    "    sel = np.argsort(evals)[::-1]\n",
    "    evecs = evecs[:,sel]\n",
    "\n",
    "    y = tmp.dot(evecs)\n",
    "\n",
    "    return np.column_stack((y,labels))"
   ]
  },
  {
   "cell_type": "code",
   "execution_count": 261,
   "metadata": {},
   "outputs": [],
   "source": [
    "def pcafda(inp,c):\n",
    "    labels = inp[:,-1]\n",
    "    tmp = inp[:,:-1]\n",
    "\n",
    "    tmp = (tmp - np.mean(tmp,axis=0))/np.std(tmp,axis=0)\n",
    "    cov = np.cov(tmp.T)\n",
    "\n",
    "    evals,evecs = np.linalg.eig(cov)\n",
    "    sel = np.argsort(evals)[::-1]\n",
    "    evecs = evecs[:, sel]\n",
    "    evecs = evecs[:,:c]\n",
    "    tmp = tmp.dot(evecs)\n",
    "\n",
    "    return fda(tmp,labels)"
   ]
  },
  {
   "cell_type": "code",
   "execution_count": 262,
   "metadata": {},
   "outputs": [],
   "source": [
    "def logistic_regression(inp):\n",
    "    def sigmoid(x):\n",
    "        return 1/(1 + np.exp(-x))\n",
    "    \n",
    "    traindata = inp[:int(0.8*len(inp))]\n",
    "    testdata = inp[int(0.8*len(inp)):]\n",
    "    Y = traindata[:,-1]\n",
    "    X = traindata[:,:-1]\n",
    "    Y_test = testdata[:,-1]\n",
    "    X_test = testdata[:,:-1]\n",
    "    n,m = X.shape\n",
    "    theta = np.zeros((m,1))\n",
    "    max_iter = 1000\n",
    "    alpha = 0.02\n",
    "\n",
    "    for i in range(max_iter):\n",
    "        p = np.zeros((n,))\n",
    "        for i in range(n):\n",
    "            print(theta.shape,X[i].shape)\n",
    "            p[i] = theta.dot(X[i].reshape(-1,1))\n",
    "        newtheta = theta - alpha * ((X.T).dot(p-Y))/n\n",
    "        if(np.abs(newtheta-theta)<=0.001):\n",
    "            break\n",
    "        theta = newtheta\n",
    "    \n",
    "    probs = sigmoid(X_test.dot(theta))\n",
    "    pred = (probs>=0.5).astype('int')\n",
    "    return 100*accuracy_score(Y_test,pred)"
   ]
  },
  {
   "cell_type": "code",
   "execution_count": 263,
   "metadata": {},
   "outputs": [],
   "source": [
    "fda_only = fda(data[:,:-1],data[:,-1])\n",
    "pca_fda = pcafda(data,k)"
   ]
  },
  {
   "cell_type": "code",
   "execution_count": 264,
   "metadata": {},
   "outputs": [
    {
     "name": "stdout",
     "output_type": "stream",
     "text": [
      "(13, 1) (13,)\n"
     ]
    },
    {
     "ename": "ValueError",
     "evalue": "shapes (13,1) and (13,1) not aligned: 1 (dim 1) != 13 (dim 0)",
     "output_type": "error",
     "traceback": [
      "\u001b[0;31m---------------------------------------------------------------------------\u001b[0m",
      "\u001b[0;31mValueError\u001b[0m                                Traceback (most recent call last)",
      "\u001b[1;32m/Users/akshatgupta/Desktop/IIITD/SEM_4/SML/sml_assignment_2/q2.ipynb Cell 7'\u001b[0m in \u001b[0;36m<cell line: 1>\u001b[0;34m()\u001b[0m\n\u001b[0;32m----> <a href='vscode-notebook-cell:/Users/akshatgupta/Desktop/IIITD/SEM_4/SML/sml_assignment_2/q2.ipynb#ch0000005?line=0'>1</a>\u001b[0m logistic_regression(fda_only)\n",
      "\u001b[1;32m/Users/akshatgupta/Desktop/IIITD/SEM_4/SML/sml_assignment_2/q2.ipynb Cell 5'\u001b[0m in \u001b[0;36mlogistic_regression\u001b[0;34m(inp)\u001b[0m\n\u001b[1;32m     <a href='vscode-notebook-cell:/Users/akshatgupta/Desktop/IIITD/SEM_4/SML/sml_assignment_2/q2.ipynb#ch0000006?line=17'>18</a>\u001b[0m \u001b[39mfor\u001b[39;00m i \u001b[39min\u001b[39;00m \u001b[39mrange\u001b[39m(n):\n\u001b[1;32m     <a href='vscode-notebook-cell:/Users/akshatgupta/Desktop/IIITD/SEM_4/SML/sml_assignment_2/q2.ipynb#ch0000006?line=18'>19</a>\u001b[0m     \u001b[39mprint\u001b[39m(theta\u001b[39m.\u001b[39mshape,X[i]\u001b[39m.\u001b[39mshape)\n\u001b[0;32m---> <a href='vscode-notebook-cell:/Users/akshatgupta/Desktop/IIITD/SEM_4/SML/sml_assignment_2/q2.ipynb#ch0000006?line=19'>20</a>\u001b[0m     p[i] \u001b[39m=\u001b[39m theta\u001b[39m.\u001b[39;49mdot(X[i]\u001b[39m.\u001b[39;49mreshape(\u001b[39m-\u001b[39;49m\u001b[39m1\u001b[39;49m,\u001b[39m1\u001b[39;49m))\n\u001b[1;32m     <a href='vscode-notebook-cell:/Users/akshatgupta/Desktop/IIITD/SEM_4/SML/sml_assignment_2/q2.ipynb#ch0000006?line=20'>21</a>\u001b[0m newtheta \u001b[39m=\u001b[39m theta \u001b[39m-\u001b[39m alpha \u001b[39m*\u001b[39m ((X\u001b[39m.\u001b[39mT)\u001b[39m.\u001b[39mdot(p\u001b[39m-\u001b[39mY))\u001b[39m/\u001b[39mn\n\u001b[1;32m     <a href='vscode-notebook-cell:/Users/akshatgupta/Desktop/IIITD/SEM_4/SML/sml_assignment_2/q2.ipynb#ch0000006?line=21'>22</a>\u001b[0m \u001b[39mif\u001b[39;00m(np\u001b[39m.\u001b[39mabs(newtheta\u001b[39m-\u001b[39mtheta)\u001b[39m<\u001b[39m\u001b[39m=\u001b[39m\u001b[39m0.001\u001b[39m):\n",
      "\u001b[0;31mValueError\u001b[0m: shapes (13,1) and (13,1) not aligned: 1 (dim 1) != 13 (dim 0)"
     ]
    }
   ],
   "source": [
    "logistic_regression(fda_only)"
   ]
  }
 ],
 "metadata": {
  "interpreter": {
   "hash": "aee8b7b246df8f9039afb4144a1f6fd8d2ca17a180786b69acc140d282b71a49"
  },
  "kernelspec": {
   "display_name": "Python 3.10.4 64-bit",
   "language": "python",
   "name": "python3"
  },
  "language_info": {
   "codemirror_mode": {
    "name": "ipython",
    "version": 3
   },
   "file_extension": ".py",
   "mimetype": "text/x-python",
   "name": "python",
   "nbconvert_exporter": "python",
   "pygments_lexer": "ipython3",
   "version": "3.10.4"
  },
  "orig_nbformat": 4
 },
 "nbformat": 4,
 "nbformat_minor": 2
}
