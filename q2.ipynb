{
 "cells": [
  {
   "cell_type": "code",
   "execution_count": 571,
   "metadata": {},
   "outputs": [],
   "source": [
    "import numpy as np\n",
    "import pandas as pd\n",
    "from sklearn.metrics import accuracy_score"
   ]
  },
  {
   "cell_type": "code",
   "execution_count": 572,
   "metadata": {},
   "outputs": [],
   "source": [
    "readdata = pd.read_csv(\"../dataset/heart.csv\")\n",
    "\n",
    "mapping = {value: index for index, value in enumerate(readdata['ChestPain'].unique())}\n",
    "readdata['ChestPain'] = readdata['ChestPain'].map(mapping)\n",
    "\n",
    "mapping = {value: index for index, value in enumerate(readdata['Thal'].unique())}\n",
    "readdata['Thal'] = readdata['Thal'].map(mapping)\n",
    "\n",
    "readdata.loc[readdata['AHD']=='No','AHD'] = 0\n",
    "readdata.loc[readdata['AHD']=='Yes','AHD'] = 1\n",
    "\n",
    "readdata.dropna(inplace=True)\n",
    "\n",
    "data = readdata.to_numpy()\n",
    "data = data[:,1:].astype('float64')\n",
    "\n",
    "k = 10"
   ]
  },
  {
   "cell_type": "code",
   "execution_count": 573,
   "metadata": {},
   "outputs": [],
   "source": [
    "def fda(tmp,labels):\n",
    "\n",
    "    f = tmp.shape[1]\n",
    "    class0 = tmp[labels==0]\n",
    "    class1 = tmp[labels==1]\n",
    "    \n",
    "    cent = np.zeros((2,f))\n",
    "    cent[0] = np.mean(class0,axis=0)\n",
    "    cent[1] = np.mean(class1,axis=0)\n",
    "\n",
    "    s0 = np.zeros((f,f))\n",
    "    s1 = np.zeros((f,f))\n",
    "\n",
    "    n0 = class0.shape[0]\n",
    "    n1 = class1.shape[1]\n",
    "    \n",
    "    for x in class0:\n",
    "        row = x.reshape(-1,1)\n",
    "        mean = cent[0].reshape(-1,1)\n",
    "        s0 += (row - mean).dot((row - mean).T)\n",
    "    s0 *= (1.0/(n0-1))\n",
    "\n",
    "    for x in class1:\n",
    "        row = x.reshape(-1,1)\n",
    "        mean = cent[1].reshape(-1,1)\n",
    "        s1 += (row - mean).dot((row - mean).T)\n",
    "    s1 *= (1.0/(n1-1))\n",
    "\n",
    "    m = cent[0] - cent[1]\n",
    "    sigma = ((n0 * s0) + (n1 * s1))\n",
    "    omega = np.linalg.inv(sigma)@(m.reshape(-1,1))\n",
    "    y = np.zeros((tmp.shape[0],1))\n",
    "    for i in range(tmp.shape[0]):\n",
    "        y[i] = omega.T @ (tmp[i].reshape(-1,1))\n",
    "\n",
    "    return np.column_stack((y,labels.astype('int')))"
   ]
  },
  {
   "cell_type": "code",
   "execution_count": 574,
   "metadata": {},
   "outputs": [],
   "source": [
    "def pcafda(inp,c):\n",
    "    labels = inp[:,-1]\n",
    "    tmp = inp[:,:-1]\n",
    "\n",
    "    tmp = (tmp - np.mean(tmp,axis=0))/np.std(tmp,axis=0)\n",
    "    cov = np.cov(tmp.T)\n",
    "\n",
    "    evals,evecs = np.linalg.eig(cov)\n",
    "    sel = np.argsort(evals)[::-1]\n",
    "    evecs = evecs[:, sel]\n",
    "    evecs = evecs[:,:c]\n",
    "    tmp = tmp.dot(evecs)\n",
    "\n",
    "    return fda(tmp,labels)"
   ]
  },
  {
   "cell_type": "code",
   "execution_count": 575,
   "metadata": {},
   "outputs": [],
   "source": [
    "def logistic_regression(inp):\n",
    "    def sigmoid(x):\n",
    "        return 1/(1 + np.exp(-x))\n",
    "    \n",
    "    traindata = inp[:int(0.9*len(inp))]\n",
    "    testdata = inp[int(0.9*len(inp)):]\n",
    "    Y = traindata[:,-1]\n",
    "    X = traindata[:,:-1]\n",
    "    Y_test = testdata[:,-1]\n",
    "    X_test = testdata[:,:-1]\n",
    "    n,m = X.shape\n",
    "    theta = np.zeros((m,1))\n",
    "    max_iter = 1000\n",
    "    alpha = 0.02\n",
    "\n",
    "    for i in range(max_iter):\n",
    "        p = np.zeros((n,))\n",
    "        for i in range(n):\n",
    "            p[i] = X[i].dot(theta)\n",
    "        newtheta = theta - alpha * ((X.T).dot(p-Y))/n\n",
    "        if(np.abs(newtheta-theta)<=0.001):\n",
    "            break\n",
    "        theta = newtheta\n",
    "    \n",
    "    probs = sigmoid(X_test.dot(theta))\n",
    "    pred = (probs>=0.5).astype('int')\n",
    "    return 100*accuracy_score(Y_test,pred)"
   ]
  },
  {
   "cell_type": "code",
   "execution_count": 576,
   "metadata": {},
   "outputs": [],
   "source": [
    "fda_only = fda(data[:,:-1],data[:,-1])\n",
    "pca_fda = pcafda(data,k)"
   ]
  },
  {
   "cell_type": "code",
   "execution_count": 577,
   "metadata": {},
   "outputs": [
    {
     "name": "stdout",
     "output_type": "stream",
     "text": [
      "60.0 60.0\n"
     ]
    }
   ],
   "source": [
    "acc1 = logistic_regression(fda_only)\n",
    "acc2 = logistic_regression(pca_fda)\n",
    "\n",
    "print(acc1,acc2)"
   ]
  }
 ],
 "metadata": {
  "interpreter": {
   "hash": "aee8b7b246df8f9039afb4144a1f6fd8d2ca17a180786b69acc140d282b71a49"
  },
  "kernelspec": {
   "display_name": "Python 3.10.4 64-bit",
   "language": "python",
   "name": "python3"
  },
  "language_info": {
   "codemirror_mode": {
    "name": "ipython",
    "version": 3
   },
   "file_extension": ".py",
   "mimetype": "text/x-python",
   "name": "python",
   "nbconvert_exporter": "python",
   "pygments_lexer": "ipython3",
   "version": "3.10.4"
  },
  "orig_nbformat": 4
 },
 "nbformat": 4,
 "nbformat_minor": 2
}
