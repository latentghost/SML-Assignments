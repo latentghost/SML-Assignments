{
  "cells": [
    {
      "cell_type": "code",
      "execution_count": 8,
      "metadata": {
        "id": "otsz-Dvn0Mvt"
      },
      "outputs": [],
      "source": [
        "# load the dataset\n",
        "import numpy as np\n",
        "\n",
        "data = np.load('../dataset/kmeans_data.npy')"
      ]
    },
    {
      "cell_type": "code",
      "execution_count": 9,
      "metadata": {
        "id": "LxSO1u-qKWFJ"
      },
      "outputs": [],
      "source": [
        "# use manhattan distance as the distance metric for clustering procedures\n",
        "def dist(x,centroids):\n",
        "  out = [0]*centroids.shape[0]\n",
        "  for i in range(centroids.shape[0]):\n",
        "    out[i] = abs(x[0]-centroids[i][0]) + abs(x[1]-centroids[i][1])\n",
        "  return out\n",
        "\n",
        "\n",
        "# manhattan distance between two points\n",
        "def dpts(x,y):\n",
        "  return (abs(x[0]-y[0]) + abs(x[1]-y[1]))"
      ]
    },
    {
      "cell_type": "markdown",
      "metadata": {
        "id": "tyQVP4akT1zj"
      },
      "source": [
        "k-means Clustering"
      ]
    },
    {
      "cell_type": "code",
      "execution_count": 10,
      "metadata": {
        "id": "tL_4aUV32qFi"
      },
      "outputs": [],
      "source": [
        "# Main k-means Clustering Algorithm\n",
        "def kmeans_algo(k):\n",
        "\n",
        "  # choose k random points as initial centroids\n",
        "  centroids = data[np.random.choice(data.shape[0],size=k,replace=False)]\n",
        "\n",
        "  # set maximum iterations to 1000\n",
        "  max = 1000\n",
        "\n",
        "  # data pt labels (cluster IDs)\n",
        "  labels = np.array([-1]*data.shape[0])\n",
        "\n",
        "  while(max>0):\n",
        "    \n",
        "    # assign data point to clusters based on proximity\n",
        "    for j in range(data.shape[0]):\n",
        "      labels[j] = np.argmin(dist(data[j],centroids),axis=0)\n",
        "    \n",
        "    # reassign cluster-centroids after assigning pts to clusters\n",
        "    new_centroids = np.copy(centroids)\n",
        "    for j in range(k):\n",
        "      xsum = 0\n",
        "      ysum = 0\n",
        "      n = 0\n",
        "      for x in range(data.shape[0]):\n",
        "        if(labels[x]==j):\n",
        "          xsum += data[x][0]\n",
        "          ysum += data[x][1]\n",
        "          n += 1\n",
        "      new_centroids[j] = [xsum/float(n),ysum/float(n)]\n",
        "    \n",
        "    # check if shift in centroids is less than 0.001\n",
        "    # if yes, then return the current labels and centroids\n",
        "    # else continue until convergence or max iterations\n",
        "    for i in range(len(centroids)):\n",
        "      if(abs(centroids[i][0]-new_centroids[i][0]) + abs(centroids[i][1]-new_centroids[i][1]) > 0.00002):\n",
        "        centroids = np.copy(new_centroids)\n",
        "        break\n",
        "      if(i==len(centroids)-1):\n",
        "        return labels, new_centroids\n",
        "\n",
        "    max -= 1\n",
        "\n",
        "  return labels, centroids"
      ]
    },
    {
      "cell_type": "code",
      "execution_count": 11,
      "metadata": {
        "id": "h_kLMk7FFAim"
      },
      "outputs": [],
      "source": [
        "k_vals = range(4,10)\n",
        "avg_si_scores = []\n",
        "\n",
        "for k in k_vals:\n",
        "  \n",
        "  # apply k-means clustering for current k value\n",
        "  l,c = kmeans_algo(k)\n",
        "\n",
        "  # Silhouette score for current k value:\n",
        "\n",
        "  # calculate (manhattan) distance between each data pt and each centroid\n",
        "  d = (abs(data - c[l, :])).sum(axis=1)\n",
        "\n",
        "  si_score = []\n",
        "  for i in range(data.shape[0]):\n",
        "    # define the cluster with cluster ID i\n",
        "    ci = d[l==l[i]]\n",
        "\n",
        "    # calculate a(i) as the intra cluster distance\n",
        "    ai = 0\n",
        "    if(ci.shape[0]>1):\n",
        "      # exclude the current data pt from the summation in a(i)\n",
        "      ai = np.mean(ci[ci!=d[i]],axis=0)\n",
        "\n",
        "    bi = np.inf\n",
        "    for j in range(0,k):\n",
        "      if(j==l[i]):\n",
        "        continue\n",
        "      \n",
        "      # calculate distance between cluster J and current data point\n",
        "      # and update b(i) as the minimum value of such a distance for a\n",
        "      # cluster J != I\n",
        "      s = 0\n",
        "      m = 0\n",
        "      for t in range(data.shape[0]):\n",
        "        if(l[t]!=j):\n",
        "          continue\n",
        "        x = data[t]\n",
        "        s += abs(x[0]-data[i][0]) + abs(x[1]-data[i][1])\n",
        "        m += 1\n",
        "      s /= float(m)\n",
        "      bi = min(bi,s)\n",
        "    \n",
        "    # store the s(i) score for the current data point\n",
        "    si_score.append((bi-ai)/max(ai,bi))\n",
        "  \n",
        "  # calculate and store the average s(i) score for current k value\n",
        "  avg_si_score = np.mean(si_score)\n",
        "  avg_si_scores.append(avg_si_score)"
      ]
    },
    {
      "cell_type": "code",
      "execution_count": 12,
      "metadata": {
        "id": "_0LPp2IJV59N"
      },
      "outputs": [
        {
          "name": "stdout",
          "output_type": "stream",
          "text": [
            "k-value: 4\n",
            "Avg silhouette score for k=4: 0.7845729441853112\n",
            "\n",
            "k-value: 5\n",
            "Avg silhouette score for k=5: 0.8142079920084564\n",
            "\n",
            "k-value: 6\n",
            "Avg silhouette score for k=6: 0.7523566358147558\n",
            "\n",
            "k-value: 7\n",
            "Avg silhouette score for k=7: 0.7464248904764451\n",
            "\n",
            "k-value: 8\n",
            "Avg silhouette score for k=8: 0.6939150984247473\n",
            "\n",
            "k-value: 9\n",
            "Avg silhouette score for k=9: 0.6071469796660225\n",
            "\n",
            "Optimal k-value: 5\n"
          ]
        }
      ],
      "source": [
        "# print all k-values with corresponding silhouette scores\n",
        "# and the optimal k-value\n",
        "for i in range(len(avg_si_scores)):\n",
        "  print(\"k-value: \",end=\"\")\n",
        "  print(k_vals[i])\n",
        "  print(\"Avg silhouette score for k=\",end=\"\")\n",
        "  print(k_vals[i],end=\"\")\n",
        "  print(\": \",end=\"\")\n",
        "  print(avg_si_scores[i])\n",
        "  print()\n",
        "\n",
        "print(\"Optimal k-value: \",end=\"\")\n",
        "print(k_vals[np.argmax(avg_si_scores)])"
      ]
    },
    {
      "cell_type": "markdown",
      "metadata": {
        "id": "a7pY1wwFT4mU"
      },
      "source": [
        "Fuzzy c-means"
      ]
    },
    {
      "cell_type": "code",
      "execution_count": 13,
      "metadata": {
        "id": "yVU6W5DsZgs2"
      },
      "outputs": [],
      "source": [
        "# define objective function of fuzzy c-means\n",
        "def J(U,V,m):\n",
        "  out = 0\n",
        "  for i in range(U.shape[0]):\n",
        "    for j in range(V.shape[0]):\n",
        "      out += ((U[i][j])**m)*((data[i][0]-V[j][0])**2 + (data[i][1]-V[j][1])**2)\n",
        "  return out\n",
        "\n",
        "\n",
        "# Main Fuzzy c-means Clustering Algorithm\n",
        "def fuzzy_algo(c,m,beta=0.3):\n",
        "\n",
        "  # define n1 as the number of samples\n",
        "  n1 = data.shape[0]\n",
        "  \n",
        "  # choose k random points as initial centroids\n",
        "  V = data[np.random.choice(n1,size=c,replace=False)]\n",
        "\n",
        "  # set maximum iterations to 500\n",
        "  max = 500\n",
        "\n",
        "  # define membership matrix\n",
        "  U = np.random.rand(n1,c)\n",
        "  # normalise matrix such that entries of each row sum up to 1\n",
        "  U /= np.sum(U,axis=1)[:,np.newaxis]\n",
        "\n",
        "  while(max>0):\n",
        "    # if objective function takes value below threshold, return U,V\n",
        "    if(J(U,V,m)<beta):\n",
        "      return U,V\n",
        "    \n",
        "    for i in range(n1):\n",
        "      for j in range(c):\n",
        "        \n",
        "        # find the membership of each data point w.r.t each cluster\n",
        "        s = 0\n",
        "        for k in range(c):\n",
        "          s += (float(dpts(data[i],V[j]))/(dpts(data[i],V[k])))**(2.0/m - 1)\n",
        "        \n",
        "        # assign membership to point i wrt cluster j\n",
        "        U[i][j] = 1.0/s\n",
        "    \n",
        "    # find fuzzy centroids\n",
        "    for j in range(c):\n",
        "      snumx = 0\n",
        "      snumy = 0\n",
        "      sden = 0\n",
        "      for i in range(n1):\n",
        "        snumx += ((U[i][j])**m)*data[i][0]\n",
        "        snumy += ((U[i][j])**m)*data[i][1]\n",
        "        sden += (U[i][j])**m\n",
        "      \n",
        "      # assign new centroid value to fuzzy centroids\n",
        "      V[j] = np.array([float(snumx)/sden,float(snumy)/sden])\n",
        "    \n",
        "    max -= 1\n",
        "\n",
        "  return U,V"
      ]
    },
    {
      "cell_type": "code",
      "execution_count": 14,
      "metadata": {
        "id": "1wnUvtA_0cjh"
      },
      "outputs": [
        {
          "name": "stderr",
          "output_type": "stream",
          "text": [
            "/var/folders/fx/m8jghh2j0xn7xvzxjj0rz1sr0000gn/T/ipykernel_47583/3994027339.py:38: RuntimeWarning: invalid value encountered in double_scalars\n",
            "  s += (float(dpts(data[i],V[j]))/(dpts(data[i],V[k])))**(2.0/m - 1)\n",
            "/var/folders/fx/m8jghh2j0xn7xvzxjj0rz1sr0000gn/T/ipykernel_47583/3994027339.py:38: RuntimeWarning: divide by zero encountered in double_scalars\n",
            "  s += (float(dpts(data[i],V[j]))/(dpts(data[i],V[k])))**(2.0/m - 1)\n"
          ]
        },
        {
          "name": "stdout",
          "output_type": "stream",
          "text": [
            "For c = 5, for fuzzy c-means clustering, objective function takes value: \n",
            "18644.69828228233\n"
          ]
        }
      ],
      "source": [
        "c = k_vals[np.argmax(avg_si_scores)]\n",
        "m = 2\n",
        "\n",
        "# call fuzzy c-means for c = optimal k-value from k-means, and m = 2\n",
        "U1,V1 = fuzzy_algo(c,m)\n",
        "\n",
        "print(\"For c = \",end = \"\")\n",
        "print(c,end=\"\")\n",
        "print(\", for fuzzy c-means clustering, objective function takes value: \")\n",
        "print(J(U1,V1,m))"
      ]
    }
  ],
  "metadata": {
    "colab": {
      "private_outputs": true,
      "provenance": []
    },
    "kernelspec": {
      "display_name": "Python 3",
      "name": "python3"
    },
    "language_info": {
      "codemirror_mode": {
        "name": "ipython",
        "version": 3
      },
      "file_extension": ".py",
      "mimetype": "text/x-python",
      "name": "python",
      "nbconvert_exporter": "python",
      "pygments_lexer": "ipython3",
      "version": "3.10.4"
    }
  },
  "nbformat": 4,
  "nbformat_minor": 0
}
