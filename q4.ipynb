{
 "cells": [
  {
   "cell_type": "code",
   "execution_count": 269,
   "metadata": {},
   "outputs": [],
   "source": [
    "import numpy as np\n",
    "import os\n",
    "import pandas as pd\n",
    "from sklearn.model_selection import train_test_split\n",
    "from sklearn.preprocessing import StandardScaler\n",
    "from sklearn.neighbors import KNeighborsClassifier\n",
    "from sklearn.metrics import accuracy_score"
   ]
  },
  {
   "cell_type": "code",
   "execution_count": 270,
   "metadata": {},
   "outputs": [],
   "source": [
    "data = pd.read_csv(\"../dataset/iris.csv\")\n",
    "\n",
    "data.loc[data['Species']=='Iris-setosa', 'Species'] = 0\n",
    "data.loc[data['Species']=='Iris-versicolor', 'Species'] = 1\n",
    "data.loc[data['Species']=='Iris-virginica', 'Species'] = 2\n",
    "\n",
    "data = data.to_numpy()"
   ]
  },
  {
   "cell_type": "code",
   "execution_count": 271,
   "metadata": {},
   "outputs": [],
   "source": [
    "def knn(traindata,trainlabel,testdata,testlabel):\n",
    "    traindata = StandardScaler().fit_transform(traindata)\n",
    "    testdata = StandardScaler().fit_transform(testdata)\n",
    "\n",
    "    knn = KNeighborsClassifier(n_neighbors=5)\n",
    "    knn.fit(traindata,trainlabel)\n",
    "\n",
    "    pred = knn.predict(testdata)\n",
    "    acc = accuracy_score(testlabel,pred)\n",
    "\n",
    "    return acc*100"
   ]
  },
  {
   "cell_type": "code",
   "execution_count": null,
   "metadata": {},
   "outputs": [],
   "source": [
    "def lda()"
   ]
  },
  {
   "cell_type": "code",
   "execution_count": 272,
   "metadata": {},
   "outputs": [
    {
     "name": "stdout",
     "output_type": "stream",
     "text": [
      "94.73684210526315\n"
     ]
    }
   ],
   "source": [
    "trdata, tsdata, trlabel, tslabel = train_test_split(data[:,1:5],data[:,5],test_size=0.25,random_state=100)\n",
    "trlabel = trlabel.astype('int')\n",
    "tslabel = tslabel.astype('int')\n",
    "print(knn(trdata,trlabel,tsdata,tslabel))"
   ]
  }
 ],
 "metadata": {
  "interpreter": {
   "hash": "aee8b7b246df8f9039afb4144a1f6fd8d2ca17a180786b69acc140d282b71a49"
  },
  "kernelspec": {
   "display_name": "Python 3.10.4 64-bit",
   "language": "python",
   "name": "python3"
  },
  "language_info": {
   "codemirror_mode": {
    "name": "ipython",
    "version": 3
   },
   "file_extension": ".py",
   "mimetype": "text/x-python",
   "name": "python",
   "nbconvert_exporter": "python",
   "pygments_lexer": "ipython3",
   "version": "3.10.4"
  },
  "orig_nbformat": 4
 },
 "nbformat": 4,
 "nbformat_minor": 2
}
