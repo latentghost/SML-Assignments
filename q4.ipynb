{
 "cells": [
  {
   "cell_type": "code",
   "execution_count": 1,
   "metadata": {},
   "outputs": [],
   "source": [
    "import numpy as np\n",
    "import os\n",
    "import pandas as pd\n",
    "from sklearn.model_selection import train_test_split\n",
    "from sklearn.preprocessing import StandardScaler\n",
    "from sklearn.neighbors import KNeighborsClassifier\n",
    "from sklearn.metrics import accuracy_score"
   ]
  },
  {
   "cell_type": "markdown",
   "metadata": {},
   "source": [
    "### Data Pre-processing\n",
    "Target variable *Species* takes values 0,1,2 corresponding to *Iris-setosa, Iris-versicolor, Iris-virginica*  \n",
    "\n",
    "*Species* and *ID* columns are dropped from the dataset"
   ]
  },
  {
   "cell_type": "code",
   "execution_count": 2,
   "metadata": {},
   "outputs": [],
   "source": [
    "data = pd.read_csv(\"../dataset/iris.csv\")\n",
    "\n",
    "data.loc[data['Species']=='Iris-setosa', 'Species'] = 0\n",
    "data.loc[data['Species']=='Iris-versicolor', 'Species'] = 1\n",
    "data.loc[data['Species']=='Iris-virginica', 'Species'] = 2\n",
    "\n",
    "data = data.to_numpy()\n",
    "data = data[:,1:]"
   ]
  },
  {
   "cell_type": "markdown",
   "metadata": {},
   "source": [
    "### kNN Algorithm\n",
    "Dataset split into a training set and a testing set (*80:20* split).  \n",
    "Each feature is scaled such that all values lie in the range *(0,1)* to maintain consistency of data.  \n",
    "\n",
    "Algorithm uses *k=5* to learn from the training data, and returns the accuracy of the model w.r.t the testing data."
   ]
  },
  {
   "cell_type": "code",
   "execution_count": 3,
   "metadata": {},
   "outputs": [],
   "source": [
    "def knn(inp):\n",
    "    # train-test split\n",
    "    traindata, testdata, trainlabel, testlabel = train_test_split(inp[:,:-1],inp[:,-1],test_size=0.2,random_state=21)\n",
    "    trainlabel = trainlabel.astype('int')\n",
    "    testlabel = testlabel.astype('int')\n",
    "    \n",
    "    # scaling\n",
    "    traindata = StandardScaler().fit_transform(traindata)\n",
    "    testdata = StandardScaler().fit_transform(testdata)\n",
    "\n",
    "    # training\n",
    "    knn = KNeighborsClassifier(n_neighbors=5)\n",
    "    knn.fit(traindata,trainlabel)\n",
    "\n",
    "    # testing\n",
    "    pred = knn.predict(testdata)\n",
    "    acc = accuracy_score(testlabel,pred)\n",
    "\n",
    "    return acc*100"
   ]
  },
  {
   "cell_type": "markdown",
   "metadata": {},
   "source": [
    "### Linear Discriminant Analysis (LDA)\n",
    "**m**<sub>j</sub> represents centroids of j<sup>th</sup> class (*c=3* classes) and **m** represent global mean.  \n",
    "S<sub>&omega;</sub> represents within-class scatter and S<sub>b</sub> represents between-class scatter i.e.  \n",
    "&nbsp;&nbsp;&nbsp;&nbsp;&nbsp;&nbsp;&nbsp;&nbsp;&nbsp;&nbsp;&nbsp;&nbsp;&nbsp;**S**<sub>&omega;</sub> = &Sigma; **S**<sub>j</sub>  for *0<=j<=2*\n",
    "&nbsp;&nbsp;&nbsp;&nbsp;&nbsp;&nbsp;&nbsp;&nbsp;&nbsp;&nbsp;&nbsp;&nbsp;&nbsp;**S**<sub>b</sub> = &Sigma; n<sub>*j*</sub> (**m**<sub>*j*</sub> - **m**)(**m**<sub>*j*</sub> - **m**)<sup>T</sup>  \n",
    "\n",
    "Maximizer of the objective function for LDA is given by the largest eigenvector *v<sub>1</sub>* of **S**<sub>&omega;</sub><sup>-1</sup>**S**<sub>b</sub> i.e.  \n",
    "&nbsp;&nbsp;&nbsp;&nbsp;&nbsp;&nbsp;&nbsp;&nbsp;&nbsp;&nbsp;&nbsp;&nbsp;&nbsp; **S**<sub>&omega;</sub><sup>-1</sup>**S**<sub>b</sub> = &lambda;<sub>1</sub>**v**<sub>1</sub>"
   ]
  },
  {
   "cell_type": "code",
   "execution_count": 4,
   "metadata": {},
   "outputs": [],
   "source": [
    "def lda(inp):\n",
    "    c = 3\n",
    "    label = inp[:,-1]\n",
    "    tmp = inp[:,:-1]\n",
    "    #global mean\n",
    "    glob = np.mean(tmp,axis=0).reshape(-1,1)\n",
    "    d = tmp.shape[1]\n",
    "    cent = np.zeros((c,d))\n",
    "\n",
    "    # single-class means\n",
    "    for i in range(c):\n",
    "        cent[i] = np.mean(tmp[label==i], axis=0)\n",
    "\n",
    "    s_w = np.zeros((tmp.shape[1],tmp.shape[1]))\n",
    "    s_b = np.zeros((tmp.shape[1],tmp.shape[1]))\n",
    "\n",
    "    for j in range(c):\n",
    "        # within class scatter\n",
    "        s_j = np.zeros((tmp.shape[1],tmp.shape[1]))\n",
    "        for row in tmp[label==j]:\n",
    "            row = row.reshape(-1,1)\n",
    "            mean = cent[j].reshape(-1,1)\n",
    "            t = (row-mean).dot((row-mean).T).astype('float64')\n",
    "            s_j += t\n",
    "        s_w += s_j\n",
    "        \n",
    "        # between class scatter\n",
    "        n_j = tmp[label==j].shape[0]\n",
    "        col = cent[i].reshape(-1,1)\n",
    "        x = (float(n_j)/tmp.shape[0]) * ((col-glob).dot((col-glob).T)).astype('float64')\n",
    "        s_b += x\n",
    "\n",
    "    # eigenvector problem\n",
    "    evals,evecs = np.linalg.eig(np.linalg.inv(s_w).dot(s_b))\n",
    "\n",
    "    sel = np.argsort(evals)[::-1]\n",
    "    evals = np.sort(evals)[::-1]\n",
    "    evecs = evecs[:,sel]\n",
    "\n",
    "    vk = evecs[:,0]\n",
    "\n",
    "    # project data onto the eigenvector\n",
    "    y = tmp.dot(vk)\n",
    "\n",
    "    return np.column_stack((y,label))"
   ]
  },
  {
   "cell_type": "markdown",
   "metadata": {},
   "source": [
    "Accuracy of kNN on data without using LDA as pre-processing step"
   ]
  },
  {
   "cell_type": "code",
   "execution_count": 5,
   "metadata": {},
   "outputs": [
    {
     "name": "stdout",
     "output_type": "stream",
     "text": [
      "Accuracy without using LDA:  90.0\n"
     ]
    }
   ],
   "source": [
    "print(\"Accuracy without using LDA: \",knn(data))"
   ]
  },
  {
   "cell_type": "markdown",
   "metadata": {},
   "source": [
    "Accuracy of kNN on data after using LDA as pre-processing step"
   ]
  },
  {
   "cell_type": "code",
   "execution_count": 6,
   "metadata": {},
   "outputs": [
    {
     "name": "stdout",
     "output_type": "stream",
     "text": [
      "Accuracy after using LDA:  93.33333333333333\n"
     ]
    }
   ],
   "source": [
    "newdata = lda(data)\n",
    "print(\"Accuracy after using LDA: \",knn(newdata))"
   ]
  }
 ],
 "metadata": {
  "interpreter": {
   "hash": "aee8b7b246df8f9039afb4144a1f6fd8d2ca17a180786b69acc140d282b71a49"
  },
  "kernelspec": {
   "display_name": "Python 3.10.4 64-bit",
   "language": "python",
   "name": "python3"
  },
  "language_info": {
   "codemirror_mode": {
    "name": "ipython",
    "version": 3
   },
   "file_extension": ".py",
   "mimetype": "text/x-python",
   "name": "python",
   "nbconvert_exporter": "python",
   "pygments_lexer": "ipython3",
   "version": "3.10.4"
  },
  "orig_nbformat": 4
 },
 "nbformat": 4,
 "nbformat_minor": 2
}
