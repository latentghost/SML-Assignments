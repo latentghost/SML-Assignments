{
 "cells": [
  {
   "cell_type": "code",
   "execution_count": 58,
   "metadata": {},
   "outputs": [],
   "source": [
    "import numpy as np\n",
    "import os\n",
    "import pandas as pd\n",
    "from sklearn.model_selection import train_test_split\n",
    "from sklearn.preprocessing import StandardScaler\n",
    "from sklearn.neighbors import KNeighborsClassifier\n",
    "from sklearn.metrics import accuracy_score"
   ]
  },
  {
   "cell_type": "code",
   "execution_count": 59,
   "metadata": {},
   "outputs": [],
   "source": [
    "data = pd.read_csv(\"../dataset/iris.csv\")\n",
    "\n",
    "data.loc[data['Species']=='Iris-setosa', 'Species'] = 0\n",
    "data.loc[data['Species']=='Iris-versicolor', 'Species'] = 1\n",
    "data.loc[data['Species']=='Iris-virginica', 'Species'] = 2\n",
    "\n",
    "data = data.to_numpy()\n",
    "data = data[:,1:]"
   ]
  },
  {
   "cell_type": "code",
   "execution_count": 60,
   "metadata": {},
   "outputs": [],
   "source": [
    "def knn(inp):\n",
    "    traindata, testdata, trainlabel, testlabel = train_test_split(inp[:,:-1],inp[:,-1],test_size=0.2,random_state=42)\n",
    "    trainlabel = trainlabel.astype('int')\n",
    "    testlabel = testlabel.astype('int')\n",
    "    \n",
    "    traindata = StandardScaler().fit_transform(traindata)\n",
    "    testdata = StandardScaler().fit_transform(testdata)\n",
    "\n",
    "    knn = KNeighborsClassifier(n_neighbors=5)\n",
    "    knn.fit(traindata,trainlabel)\n",
    "\n",
    "    pred = knn.predict(testdata)\n",
    "    acc = accuracy_score(testlabel,pred)\n",
    "\n",
    "    return acc*100"
   ]
  },
  {
   "cell_type": "code",
   "execution_count": 61,
   "metadata": {},
   "outputs": [],
   "source": [
    "def lda(inp):\n",
    "    c = 3\n",
    "    label = inp[:,-1]\n",
    "    tmp = inp[:,:-1]\n",
    "    glob = np.mean(tmp,axis=0).reshape(-1,1)\n",
    "    d = tmp.shape[1]\n",
    "    cent = np.zeros((c,d))\n",
    "\n",
    "    for i in range(c):\n",
    "        cent[i] = np.mean(tmp[label==i], axis=0)\n",
    "\n",
    "    s_w = np.zeros((tmp.shape[1],tmp.shape[1]))\n",
    "    s_b = np.zeros((tmp.shape[1],tmp.shape[1]))\n",
    "\n",
    "    for j in range(c):\n",
    "        s_j = np.zeros((tmp.shape[1],tmp.shape[1]))\n",
    "        for row in tmp[label==j]:\n",
    "            row = row.reshape(-1,1)\n",
    "            mean = cent[j].reshape(-1,1)\n",
    "            print(mean)\n",
    "            s_j += (row-mean).dot((row-mean).T)\n",
    "        s_w += s_j\n",
    "        \n",
    "        n_j = tmp[label==j].shape[0]\n",
    "        col = cent[i].reshape(-1,1)\n",
    "        s_b += (float(n_j)/tmp.shape[0]) * ((col-glob).dot((col-glob).T))\n",
    "\n",
    "    evals,evecs = np.linalg.eig(np.linalg.inv(s_w).dot(s_b))\n",
    "\n",
    "    sel = np.argsort(evals)[::-1]\n",
    "    evals = np.sort(evals)[::-1]\n",
    "    evecs = evecs[:,sel]\n",
    "\n",
    "    print(evecs)\n",
    "\n",
    "    return"
   ]
  },
  {
   "cell_type": "code",
   "execution_count": 62,
   "metadata": {},
   "outputs": [
    {
     "name": "stdout",
     "output_type": "stream",
     "text": [
      "96.66666666666667\n"
     ]
    }
   ],
   "source": [
    "print(knn(data))"
   ]
  },
  {
   "cell_type": "code",
   "execution_count": 63,
   "metadata": {},
   "outputs": [
    {
     "name": "stdout",
     "output_type": "stream",
     "text": [
      "[[5.1]\n",
      " [3.5]\n",
      " [1.4]\n",
      " [0.2]]\n"
     ]
    },
    {
     "ename": "UFuncTypeError",
     "evalue": "Cannot cast ufunc 'add' output from dtype('O') to dtype('float64') with casting rule 'same_kind'",
     "output_type": "error",
     "traceback": [
      "\u001b[0;31m---------------------------------------------------------------------------\u001b[0m",
      "\u001b[0;31mUFuncTypeError\u001b[0m                            Traceback (most recent call last)",
      "\u001b[1;32m/Users/akshatgupta/Desktop/IIITD/SEM_4/SML/sml_assignment_2/q4.ipynb Cell 6'\u001b[0m in \u001b[0;36m<cell line: 1>\u001b[0;34m()\u001b[0m\n\u001b[0;32m----> <a href='vscode-notebook-cell:/Users/akshatgupta/Desktop/IIITD/SEM_4/SML/sml_assignment_2/q4.ipynb#ch0000005?line=0'>1</a>\u001b[0m lda(data)\n",
      "\u001b[1;32m/Users/akshatgupta/Desktop/IIITD/SEM_4/SML/sml_assignment_2/q4.ipynb Cell 4'\u001b[0m in \u001b[0;36mlda\u001b[0;34m(inp)\u001b[0m\n\u001b[1;32m     <a href='vscode-notebook-cell:/Users/akshatgupta/Desktop/IIITD/SEM_4/SML/sml_assignment_2/q4.ipynb#ch0000003?line=18'>19</a>\u001b[0m     mean \u001b[39m=\u001b[39m cent[j]\u001b[39m.\u001b[39mreshape(\u001b[39m-\u001b[39m\u001b[39m1\u001b[39m,\u001b[39m1\u001b[39m)\n\u001b[1;32m     <a href='vscode-notebook-cell:/Users/akshatgupta/Desktop/IIITD/SEM_4/SML/sml_assignment_2/q4.ipynb#ch0000003?line=19'>20</a>\u001b[0m     \u001b[39mprint\u001b[39m(row)\n\u001b[0;32m---> <a href='vscode-notebook-cell:/Users/akshatgupta/Desktop/IIITD/SEM_4/SML/sml_assignment_2/q4.ipynb#ch0000003?line=20'>21</a>\u001b[0m     s_j \u001b[39m+\u001b[39m\u001b[39m=\u001b[39m (row\u001b[39m-\u001b[39mmean)\u001b[39m.\u001b[39mdot((row\u001b[39m-\u001b[39mmean)\u001b[39m.\u001b[39mT)\n\u001b[1;32m     <a href='vscode-notebook-cell:/Users/akshatgupta/Desktop/IIITD/SEM_4/SML/sml_assignment_2/q4.ipynb#ch0000003?line=21'>22</a>\u001b[0m s_w \u001b[39m+\u001b[39m\u001b[39m=\u001b[39m s_j\n\u001b[1;32m     <a href='vscode-notebook-cell:/Users/akshatgupta/Desktop/IIITD/SEM_4/SML/sml_assignment_2/q4.ipynb#ch0000003?line=23'>24</a>\u001b[0m n_j \u001b[39m=\u001b[39m tmp[label\u001b[39m==\u001b[39mj]\u001b[39m.\u001b[39mshape[\u001b[39m0\u001b[39m]\n",
      "\u001b[0;31mUFuncTypeError\u001b[0m: Cannot cast ufunc 'add' output from dtype('O') to dtype('float64') with casting rule 'same_kind'"
     ]
    }
   ],
   "source": [
    "lda(data)"
   ]
  }
 ],
 "metadata": {
  "interpreter": {
   "hash": "aee8b7b246df8f9039afb4144a1f6fd8d2ca17a180786b69acc140d282b71a49"
  },
  "kernelspec": {
   "display_name": "Python 3.10.4 64-bit",
   "language": "python",
   "name": "python3"
  },
  "language_info": {
   "codemirror_mode": {
    "name": "ipython",
    "version": 3
   },
   "file_extension": ".py",
   "mimetype": "text/x-python",
   "name": "python",
   "nbconvert_exporter": "python",
   "pygments_lexer": "ipython3",
   "version": "3.10.4"
  },
  "orig_nbformat": 4
 },
 "nbformat": 4,
 "nbformat_minor": 2
}
