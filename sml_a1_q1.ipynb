{
  "cells": [
    {
      "cell_type": "code",
      "execution_count": 1,
      "metadata": {
        "id": "7lTjzLktijGj"
      },
      "outputs": [],
      "source": [
        "import numpy as np\n",
        "from PIL import Image\n",
        "import os"
      ]
    },
    {
      "cell_type": "code",
      "execution_count": 2,
      "metadata": {
        "id": "DXz861tDwYU6"
      },
      "outputs": [],
      "source": [
        "# load the dataset\n",
        "data = []\n",
        "labels = []\n",
        "ind = 0\n",
        "\n",
        "# load each file from the directory and flatten the data\n",
        "for root, dirs, files in os.walk('/Users/akshatgupta/Desktop/IIITD/SEM_4/SML/dataset/trainingSet'):\n",
        "  for f in files:\n",
        "    if f.endswith('.jpg'):\n",
        "      img = Image.open(os.path.join(root,f))\n",
        "      img = np.array(img)[:,:]\n",
        "      img = np.reshape(img, (img.shape[0] * img.shape[1]))\n",
        "      labels.append(ind)\n",
        "      data.append(img)\n",
        "  ind += 1\n",
        "\n",
        "data = np.array(data)\n",
        "labels = np.array(labels)\n",
        "\n",
        "# split the dataset into 80:20 as training and testing data\n",
        "split = int(0.8*data.shape[0])\n",
        "training = data[:split]\n",
        "testing = data[split:]\n",
        "trlabels = labels[:split]\n",
        "testlabels = labels[split:]"
      ]
    },
    {
      "cell_type": "code",
      "execution_count": 26,
      "metadata": {
        "id": "dts_LpgoipEc"
      },
      "outputs": [],
      "source": [
        "def pca(data):\n",
        "\n",
        "  # standardise the data (convert to standard normal)\n",
        "  Z = (data - np.mean(data,axis=0))/np.std(data,axis=0)\n",
        "\n",
        "  # compute the covariance matrix of Z\n",
        "  cov = np.cov(Z,rowvar=False)\n",
        "\n",
        "  # compute the eigenvectors and eigenvalues of the covariance matrix\n",
        "  evals, evecs = np.linalg.eig(cov)\n",
        "\n",
        "  # order the eigenvalues and corresponding eigenvectors in order of\n",
        "  # decreasing eigenvalues\n",
        "  sel = np.argsort(evals)[::-1]\n",
        "  evals = np.sort(evals)[::-1]\n",
        "  evecs = evecs[:,sel]\n",
        "\n",
        "  P = evecs[:,:]\n",
        "\n",
        "  # project the data along the PC's axes i.e. multiply Z by P\n",
        "  # where P is formed by choosing the components from the\n",
        "  # eigenvector-matrix in order of decreasing eigenvalue\n",
        "  PC = np.dot(Z,P)\n",
        "\n",
        "  return PC,evals"
      ]
    },
    {
      "cell_type": "code",
      "execution_count": 9,
      "metadata": {
        "id": "kb_3MD3nlotk"
      },
      "outputs": [],
      "source": [
        "def knn(train,test,k):\n",
        "  # labels determined by kNN\n",
        "  knn_labels = np.zeros(test.shape[0])\n",
        "\n",
        "  # distance of each test point from each training point\n",
        "  dist = np.zeros((test.shape[0],train.shape[0]))\n",
        "  for i,x in enumerate(test):\n",
        "    dist[i] = np.sum((train - x)**2, axis = 1)\n",
        "\n",
        "  # find the k nearest neighbors for each test point  \n",
        "  nearest = trlabels[np.argsort(dist,axis=1)[:,:k]]\n",
        "\n",
        "  # return the predicted labels for each test point\n",
        "  knn_labels = np.array([np.bincount(label).argmax() for label in nearest])\n",
        "\n",
        "  return knn_labels"
      ]
    },
    {
      "cell_type": "code",
      "execution_count": 27,
      "metadata": {
        "id": "mgQD3oeZrz1D"
      },
      "outputs": [],
      "source": [
        "# pca for training set\n",
        "tr_pca,tr_evals = pca(training)\n",
        "test_pca,test_evals = pca(testing)\n",
        "\n",
        "# pca for k = 5\n",
        "tr1 = tr_pca[:,:5]\n",
        "te1 = test_pca[:,:5]\n",
        "# pca for k = 25\n",
        "tr2 = tr_pca[:,:25]\n",
        "te2 = test_pca[:,:25]\n",
        "# pca for k = 125\n",
        "tr3 = tr_pca[:,:125]\n",
        "te3 = test_pca[:,:125]"
      ]
    },
    {
      "cell_type": "code",
      "execution_count": 31,
      "metadata": {
        "id": "xjP1xWQ7lVDX"
      },
      "outputs": [
        {
          "ename": "KeyboardInterrupt",
          "evalue": "",
          "output_type": "error",
          "traceback": [
            "\u001b[0;31m---------------------------------------------------------------------------\u001b[0m",
            "\u001b[0;31mKeyboardInterrupt\u001b[0m                         Traceback (most recent call last)",
            "\u001b[1;32m/Users/akshatgupta/Desktop/IIITD/SEM_4/SML/Assignment1/sml_a1_q1-2.ipynb Cell 6'\u001b[0m in \u001b[0;36m<cell line: 3>\u001b[0;34m()\u001b[0m\n\u001b[1;32m      <a href='vscode-notebook-cell:/Users/akshatgupta/Desktop/IIITD/SEM_4/SML/Assignment1/sml_a1_q1-2.ipynb#ch0000005?line=0'>1</a>\u001b[0m k \u001b[39m=\u001b[39m \u001b[39m100\u001b[39m\n\u001b[1;32m      <a href='vscode-notebook-cell:/Users/akshatgupta/Desktop/IIITD/SEM_4/SML/Assignment1/sml_a1_q1-2.ipynb#ch0000005?line=1'>2</a>\u001b[0m \u001b[39m# call kNN on the original features\u001b[39;00m\n\u001b[0;32m----> <a href='vscode-notebook-cell:/Users/akshatgupta/Desktop/IIITD/SEM_4/SML/Assignment1/sml_a1_q1-2.ipynb#ch0000005?line=2'>3</a>\u001b[0m orig \u001b[39m=\u001b[39m knn(training,testing,k)\n\u001b[1;32m      <a href='vscode-notebook-cell:/Users/akshatgupta/Desktop/IIITD/SEM_4/SML/Assignment1/sml_a1_q1-2.ipynb#ch0000005?line=4'>5</a>\u001b[0m \u001b[39m# call kNN on the transformed features\u001b[39;00m\n\u001b[1;32m      <a href='vscode-notebook-cell:/Users/akshatgupta/Desktop/IIITD/SEM_4/SML/Assignment1/sml_a1_q1-2.ipynb#ch0000005?line=5'>6</a>\u001b[0m k1 \u001b[39m=\u001b[39m knn(tr1,te1,k)\n",
            "\u001b[1;32m/Users/akshatgupta/Desktop/IIITD/SEM_4/SML/Assignment1/sml_a1_q1-2.ipynb Cell 4'\u001b[0m in \u001b[0;36mknn\u001b[0;34m(train, test, k)\u001b[0m\n\u001b[1;32m      <a href='vscode-notebook-cell:/Users/akshatgupta/Desktop/IIITD/SEM_4/SML/Assignment1/sml_a1_q1-2.ipynb#ch0000003?line=5'>6</a>\u001b[0m dist \u001b[39m=\u001b[39m np\u001b[39m.\u001b[39mzeros((test\u001b[39m.\u001b[39mshape[\u001b[39m0\u001b[39m],train\u001b[39m.\u001b[39mshape[\u001b[39m0\u001b[39m]))\n\u001b[1;32m      <a href='vscode-notebook-cell:/Users/akshatgupta/Desktop/IIITD/SEM_4/SML/Assignment1/sml_a1_q1-2.ipynb#ch0000003?line=6'>7</a>\u001b[0m \u001b[39mfor\u001b[39;00m i,x \u001b[39min\u001b[39;00m \u001b[39menumerate\u001b[39m(test):\n\u001b[0;32m----> <a href='vscode-notebook-cell:/Users/akshatgupta/Desktop/IIITD/SEM_4/SML/Assignment1/sml_a1_q1-2.ipynb#ch0000003?line=7'>8</a>\u001b[0m   dist[i] \u001b[39m=\u001b[39m np\u001b[39m.\u001b[39;49msum((train \u001b[39m-\u001b[39;49m x)\u001b[39m*\u001b[39;49m\u001b[39m*\u001b[39;49m\u001b[39m2\u001b[39;49m, axis \u001b[39m=\u001b[39;49m \u001b[39m1\u001b[39;49m)\n\u001b[1;32m     <a href='vscode-notebook-cell:/Users/akshatgupta/Desktop/IIITD/SEM_4/SML/Assignment1/sml_a1_q1-2.ipynb#ch0000003?line=9'>10</a>\u001b[0m \u001b[39m# find the k nearest neighbors for each test point  \u001b[39;00m\n\u001b[1;32m     <a href='vscode-notebook-cell:/Users/akshatgupta/Desktop/IIITD/SEM_4/SML/Assignment1/sml_a1_q1-2.ipynb#ch0000003?line=10'>11</a>\u001b[0m nearest \u001b[39m=\u001b[39m trlabels[np\u001b[39m.\u001b[39margsort(dist,axis\u001b[39m=\u001b[39m\u001b[39m1\u001b[39m)[:,:k]]\n",
            "File \u001b[0;32m<__array_function__ internals>:177\u001b[0m, in \u001b[0;36msum\u001b[0;34m(*args, **kwargs)\u001b[0m\n",
            "\u001b[0;31mKeyboardInterrupt\u001b[0m: "
          ]
        }
      ],
      "source": [
        "k = 100\n",
        "# call kNN on the original features\n",
        "orig = knn(training,testing,k)\n",
        "\n",
        "# call kNN on the transformed features\n",
        "k1 = knn(tr1,te1,k)\n",
        "k2 = knn(tr2,te2,k)\n",
        "k3 = knn(tr3,te3,k)"
      ]
    },
    {
      "cell_type": "code",
      "execution_count": null,
      "metadata": {},
      "outputs": [],
      "source": [
        "# define accuracy of each kNN as the number of test labels\n",
        "# it predicts correctly\n",
        "acc1 = np.count_nonzero(np.equal(k1,testlabels))\n",
        "acc2 = np.count_nonzero(np.equal(k2,testlabels))\n",
        "acc3 = np.count_nonzero(np.equal(k3,testlabels))\n",
        "\n",
        "print(\"Classification accuracies for:\")\n",
        "print(\"5 dimensions = \",100.0*acc1/len(testlabels))\n",
        "print(\"25 dimensions = \",100.0*acc2/len(testlabels))\n",
        "print(\"125 dimensions = \",100.0*acc3/len(testlabels))"
      ]
    },
    {
      "cell_type": "code",
      "execution_count": 28,
      "metadata": {},
      "outputs": [
        {
          "data": {
            "image/png": "[encoded data removed]",
            "text/plain": [
              "<Figure size 432x288 with 1 Axes>"
            ]
          },
          "metadata": {
            "needs_background": "light"
          },
          "output_type": "display_data"
        }
      ],
      "source": [
        "import matplotlib.pyplot as plt\n",
        "\n",
        "# sum of all eigenvalues\n",
        "s = np.sum(tr_evals)\n",
        "\n",
        "# cumulative sum of ratio of eigenvalues to the total sum\n",
        "cum_sum = np.cumsum(tr_evals/s)\n",
        "\n",
        "plt.plot(range(len(tr_evals)),cum_sum)\n",
        "plt.xlabel(\"Number of PCs\")\n",
        "plt.ylabel(\"Explained Variance\")\n",
        "plt.show()"
      ]
    },
    {
      "cell_type": "code",
      "execution_count": 12,
      "metadata": {},
      "outputs": [
        {
          "name": "stdout",
          "output_type": "stream",
          "text": [
            "Minimum number of PCs required to cover at least 80% of variance =  180\n"
          ]
        }
      ],
      "source": [
        "# minimum number of PCs required to cover at least 80% of variance\n",
        "min_num = np.argmax(cum_sum >= 0.8) + 1\n",
        "print(\"Minimum number of PCs required to cover at least 80% of variance = \",min_num)"
      ]
    }
  ],
  "metadata": {
    "colab": {
      "private_outputs": true,
      "provenance": []
    },
    "kernelspec": {
      "display_name": "Python 3",
      "name": "python3"
    },
    "language_info": {
      "codemirror_mode": {
        "name": "ipython",
        "version": 3
      },
      "file_extension": ".py",
      "mimetype": "text/x-python",
      "name": "python",
      "nbconvert_exporter": "python",
      "pygments_lexer": "ipython3",
      "version": "3.10.4"
    }
  },
  "nbformat": 4,
  "nbformat_minor": 0
}
