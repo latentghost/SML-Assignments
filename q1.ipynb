{
 "cells": [
  {
   "cell_type": "code",
   "execution_count": 199,
   "metadata": {},
   "outputs": [],
   "source": [
    "import numpy as np\n",
    "import pandas as pd\n",
    "from scipy.spatial.distance import cdist\n",
    "from sklearn.cluster import KMeans"
   ]
  },
  {
   "cell_type": "code",
   "execution_count": 200,
   "metadata": {},
   "outputs": [],
   "source": [
    "readdata = pd.read_csv(\"../dataset/glass.csv\")\n",
    "labels = readdata['Type']\n",
    "data = readdata.drop(['Type'],axis=1)\n",
    "data = data.to_numpy()"
   ]
  },
  {
   "cell_type": "code",
   "execution_count": 201,
   "metadata": {},
   "outputs": [],
   "source": [
    "def mahalanobis(inp):\n",
    "    theta = np.mean(inp,axis=0)\n",
    "    cov = np.cov(inp,rowvar=False)\n",
    "\n",
    "    dist_out = np.zeros(inp.shape[0])\n",
    "\n",
    "    for i in range(inp.shape[0]):\n",
    "        x = inp[i]\n",
    "        y = x-theta\n",
    "        dist = np.sqrt(np.dot(np.dot(y.T, np.linalg.inv(cov)),y))\n",
    "        dist_out[i] = dist\n",
    "\n",
    "    f = inp.shape[1]\n",
    "    threshold = np.sqrt(f*np.percentile(dist_out,95))\n",
    "    outliers = np.where(dist_out > threshold)[0]\n",
    "\n",
    "    return outliers"
   ]
  },
  {
   "cell_type": "code",
   "execution_count": 202,
   "metadata": {},
   "outputs": [],
   "source": [
    "def lof(inp,k):\n",
    "    n = inp.shape[0]\n",
    "    dist = cdist(inp,inp)\n",
    "\n",
    "    kinds = np.argsort(dist,axis=0)[1:k+1].T\n",
    "    kdist = np.take_along_axis(dist,kinds,axis=1)\n",
    "\n",
    "    reachdist = np.maximum(kdist,np.tile(np.expand_dims(dist.diagonal(),axis=1),(1,k)))\n",
    "    lrd = k / np.sum(reachdist,axis=1)\n",
    "\n",
    "    lofout = np.zeros(n)\n",
    "    for i in range(n):\n",
    "        ninds = kinds[i]\n",
    "        nlrd = lrd[ninds]\n",
    "        lofout[i] = np.mean(nlrd)/lrd[i]\n",
    "\n",
    "    lofout = lofout.reshape(-1,1)\n",
    "\n",
    "    km = KMeans(n_clusters=2,n_init=10,random_state=42).fit(lofout)\n",
    "    outliers = np.argmax(np.abs(km.cluster_centers_ - 1))\n",
    "    outliers = km.labels_ == outliers\n",
    "\n",
    "    return outliers"
   ]
  },
  {
   "cell_type": "code",
   "execution_count": 203,
   "metadata": {},
   "outputs": [],
   "source": [
    "def otsu_thresholding(inp):\n",
    "    n, f = inp.shape\n",
    "    mins = np.min(inp, axis=0, keepdims=True)\n",
    "    maxs = np.max(inp, axis=0, keepdims=True)\n",
    "    scaled = (inp - mins) / (maxs - mins)\n",
    "\n",
    "    num_bins = min(n, 256)\n",
    "    hist, bins = np.histogram(scaled, bins=num_bins, range=(0, 1))\n",
    "    print(hist.shape)\n",
    "    hist = hist.reshape(f, -1)\n",
    "\n",
    "    hist = hist / np.sum(hist, axis=2, keepdims=True)\n",
    "\n",
    "    cumsum = np.cumsum(hist, axis=2)\n",
    "    bins = np.linspace(0, 1, num=num_bins)\n",
    "    prod = hist * bins\n",
    "    cummean = np.cumsum(prod, axis=2)\n",
    "    glob = np.sum(prod, axis=2)\n",
    "\n",
    "    sigma = ((glob.reshape(f, -1) * cumsum - cummean) ** 2) / (cumsum * (1 - cumsum))\n",
    "    opt = np.argmax(sigma, axis=1)\n",
    "\n",
    "    return opt\n"
   ]
  },
  {
   "cell_type": "code",
   "execution_count": 204,
   "metadata": {},
   "outputs": [
    {
     "name": "stdout",
     "output_type": "stream",
     "text": [
      "[[ 1.53125 10.73     0.       2.1     69.81     0.58    13.3      3.15\n",
      "   0.28   ]\n",
      " [ 1.51643 12.16     3.52     1.35    72.89     0.57     8.53     0.\n",
      "   0.     ]\n",
      " [ 1.51316 13.02     0.       3.04    70.48     6.21     6.96     0.\n",
      "   0.     ]\n",
      " [ 1.51321 13.       0.       3.02    70.7      6.21     6.93     0.\n",
      "   0.     ]\n",
      " [ 1.51115 17.38     0.       0.34    75.41     0.       6.65     0.\n",
      "   0.     ]\n",
      " [ 1.51831 14.39     0.       1.82    72.86     1.41     6.47     2.88\n",
      "   0.     ]]\n"
     ]
    }
   ],
   "source": [
    "maha = mahalanobis(data)\n",
    "print(data[maha])"
   ]
  },
  {
   "cell_type": "code",
   "execution_count": 205,
   "metadata": {},
   "outputs": [
    {
     "name": "stdout",
     "output_type": "stream",
     "text": [
      "[[ 1.52725 13.8      3.15     0.66    70.57     0.08    11.64     0.\n",
      "   0.     ]\n",
      " [ 1.51299 14.4      1.74     1.54    74.55     0.       7.59     0.\n",
      "   0.     ]\n",
      " [ 1.51115 17.38     0.       0.34    75.41     0.       6.65     0.\n",
      "   0.     ]\n",
      " [ 1.51131 13.69     3.2      1.81    72.81     1.76     5.43     1.19\n",
      "   0.     ]\n",
      " [ 1.52365 15.79     1.83     1.31    70.43     0.31     8.61     1.68\n",
      "   0.     ]\n",
      " [ 1.51831 14.39     0.       1.82    72.86     1.41     6.47     2.88\n",
      "   0.     ]]\n"
     ]
    }
   ],
   "source": [
    "lofs = lof(data,5)\n",
    "print(data[lofs])"
   ]
  },
  {
   "cell_type": "code",
   "execution_count": 206,
   "metadata": {},
   "outputs": [
    {
     "name": "stdout",
     "output_type": "stream",
     "text": [
      "(70,)\n"
     ]
    },
    {
     "ename": "ValueError",
     "evalue": "cannot reshape array of size 70 into shape (9,newaxis)",
     "output_type": "error",
     "traceback": [
      "\u001b[0;31m---------------------------------------------------------------------------\u001b[0m",
      "\u001b[0;31mValueError\u001b[0m                                Traceback (most recent call last)",
      "\u001b[1;32m/Users/akshatgupta/Desktop/IIITD/SEM_4/SML/sml_assignment_2/q1.ipynb Cell 8'\u001b[0m in \u001b[0;36m<cell line: 2>\u001b[0;34m()\u001b[0m\n\u001b[1;32m      <a href='vscode-notebook-cell:/Users/akshatgupta/Desktop/IIITD/SEM_4/SML/sml_assignment_2/q1.ipynb#ch0000007?line=1'>2</a>\u001b[0m \u001b[39mfor\u001b[39;00m i \u001b[39min\u001b[39;00m \u001b[39mrange\u001b[39m(\u001b[39m1\u001b[39m,\u001b[39m8\u001b[39m):\n\u001b[1;32m      <a href='vscode-notebook-cell:/Users/akshatgupta/Desktop/IIITD/SEM_4/SML/sml_assignment_2/q1.ipynb#ch0000007?line=2'>3</a>\u001b[0m     indices \u001b[39m=\u001b[39m np\u001b[39m.\u001b[39mwhere(labels\u001b[39m==\u001b[39mi)[\u001b[39m0\u001b[39m]\n\u001b[0;32m----> <a href='vscode-notebook-cell:/Users/akshatgupta/Desktop/IIITD/SEM_4/SML/sml_assignment_2/q1.ipynb#ch0000007?line=3'>4</a>\u001b[0m     opt \u001b[39m=\u001b[39m otsu_thresholding(data[indices])\n\u001b[1;32m      <a href='vscode-notebook-cell:/Users/akshatgupta/Desktop/IIITD/SEM_4/SML/sml_assignment_2/q1.ipynb#ch0000007?line=4'>5</a>\u001b[0m     otsu\u001b[39m.\u001b[39mextend(indices[opt])\n\u001b[1;32m      <a href='vscode-notebook-cell:/Users/akshatgupta/Desktop/IIITD/SEM_4/SML/sml_assignment_2/q1.ipynb#ch0000007?line=5'>6</a>\u001b[0m otsu \u001b[39m=\u001b[39m np\u001b[39m.\u001b[39munique(otsu)\n",
      "\u001b[1;32m/Users/akshatgupta/Desktop/IIITD/SEM_4/SML/sml_assignment_2/q1.ipynb Cell 5'\u001b[0m in \u001b[0;36motsu_thresholding\u001b[0;34m(inp)\u001b[0m\n\u001b[1;32m      <a href='vscode-notebook-cell:/Users/akshatgupta/Desktop/IIITD/SEM_4/SML/sml_assignment_2/q1.ipynb#ch0000006?line=7'>8</a>\u001b[0m hist, bins \u001b[39m=\u001b[39m np\u001b[39m.\u001b[39mhistogram(scaled, bins\u001b[39m=\u001b[39mnum_bins, \u001b[39mrange\u001b[39m\u001b[39m=\u001b[39m(\u001b[39m0\u001b[39m, \u001b[39m1\u001b[39m))\n\u001b[1;32m      <a href='vscode-notebook-cell:/Users/akshatgupta/Desktop/IIITD/SEM_4/SML/sml_assignment_2/q1.ipynb#ch0000006?line=8'>9</a>\u001b[0m \u001b[39mprint\u001b[39m(hist\u001b[39m.\u001b[39mshape)\n\u001b[0;32m---> <a href='vscode-notebook-cell:/Users/akshatgupta/Desktop/IIITD/SEM_4/SML/sml_assignment_2/q1.ipynb#ch0000006?line=9'>10</a>\u001b[0m hist \u001b[39m=\u001b[39m hist\u001b[39m.\u001b[39;49mreshape(f, \u001b[39m-\u001b[39;49m\u001b[39m1\u001b[39;49m)\n\u001b[1;32m     <a href='vscode-notebook-cell:/Users/akshatgupta/Desktop/IIITD/SEM_4/SML/sml_assignment_2/q1.ipynb#ch0000006?line=11'>12</a>\u001b[0m hist \u001b[39m=\u001b[39m hist \u001b[39m/\u001b[39m np\u001b[39m.\u001b[39msum(hist, axis\u001b[39m=\u001b[39m\u001b[39m2\u001b[39m, keepdims\u001b[39m=\u001b[39m\u001b[39mTrue\u001b[39;00m)\n\u001b[1;32m     <a href='vscode-notebook-cell:/Users/akshatgupta/Desktop/IIITD/SEM_4/SML/sml_assignment_2/q1.ipynb#ch0000006?line=13'>14</a>\u001b[0m cumsum \u001b[39m=\u001b[39m np\u001b[39m.\u001b[39mcumsum(hist, axis\u001b[39m=\u001b[39m\u001b[39m2\u001b[39m)\n",
      "\u001b[0;31mValueError\u001b[0m: cannot reshape array of size 70 into shape (9,newaxis)"
     ]
    }
   ],
   "source": [
    "otsu = []\n",
    "for i in range(1,8):\n",
    "    indices = np.where(labels==i)[0]\n",
    "    opt = otsu_thresholding(data[indices])\n",
    "    otsu.extend(indices[opt])\n",
    "otsu = np.unique(otsu)\n",
    "\n",
    "print(otsu)"
   ]
  }
 ],
 "metadata": {
  "interpreter": {
   "hash": "aee8b7b246df8f9039afb4144a1f6fd8d2ca17a180786b69acc140d282b71a49"
  },
  "kernelspec": {
   "display_name": "Python 3.10.4 64-bit",
   "language": "python",
   "name": "python3"
  },
  "language_info": {
   "codemirror_mode": {
    "name": "ipython",
    "version": 3
   },
   "file_extension": ".py",
   "mimetype": "text/x-python",
   "name": "python",
   "nbconvert_exporter": "python",
   "pygments_lexer": "ipython3",
   "version": "3.10.4"
  },
  "orig_nbformat": 4
 },
 "nbformat": 4,
 "nbformat_minor": 2
}
