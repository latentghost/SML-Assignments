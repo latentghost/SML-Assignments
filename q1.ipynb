{
 "cells": [
  {
   "cell_type": "code",
   "execution_count": 282,
   "metadata": {},
   "outputs": [],
   "source": [
    "import numpy as np\n",
    "import pandas as pd\n",
    "from scipy.spatial.distance import cdist\n",
    "from sklearn.cluster import KMeans"
   ]
  },
  {
   "cell_type": "code",
   "execution_count": 283,
   "metadata": {},
   "outputs": [],
   "source": [
    "readdata = pd.read_csv(\"../dataset/glass.csv\")\n",
    "labels = readdata['Type']\n",
    "data = readdata.drop(['Type'],axis=1)\n",
    "data = data.to_numpy()"
   ]
  },
  {
   "cell_type": "code",
   "execution_count": 284,
   "metadata": {},
   "outputs": [],
   "source": [
    "def mahalanobis(inp):\n",
    "    theta = np.mean(inp,axis=0)\n",
    "    cov = np.cov(inp,rowvar=False)\n",
    "\n",
    "    dist_out = np.zeros(inp.shape[0])\n",
    "\n",
    "    for i in range(inp.shape[0]):\n",
    "        x = inp[i]\n",
    "        y = x-theta\n",
    "        dist = np.sqrt(np.dot(np.dot(y.T, np.linalg.inv(cov)),y))\n",
    "        dist_out[i] = dist\n",
    "\n",
    "    f = inp.shape[1]\n",
    "    threshold = np.sqrt(f*np.percentile(dist_out,95))\n",
    "    outliers = np.where(dist_out > threshold)[0]\n",
    "\n",
    "    return outliers"
   ]
  },
  {
   "cell_type": "code",
   "execution_count": 285,
   "metadata": {},
   "outputs": [],
   "source": [
    "def lof(inp,k):\n",
    "    n = inp.shape[0]\n",
    "    dist = cdist(inp,inp)\n",
    "\n",
    "    kinds = np.argsort(dist,axis=0)[1:k+1].T\n",
    "    kdist = np.take_along_axis(dist,kinds,axis=1)\n",
    "\n",
    "    reachdist = np.maximum(kdist,np.tile(np.expand_dims(dist.diagonal(),axis=1),(1,k)))\n",
    "    lrd = k / np.sum(reachdist,axis=1)\n",
    "\n",
    "    lofout = np.zeros(n)\n",
    "    for i in range(n):\n",
    "        ninds = kinds[i]\n",
    "        nlrd = lrd[ninds]\n",
    "        lofout[i] = np.mean(nlrd)/lrd[i]\n",
    "    lofout = lofout.reshape(-1,1)\n",
    "\n",
    "    km = KMeans(n_clusters=2,n_init=10,random_state=42).fit(lofout)\n",
    "    outliers = np.argmax(np.abs(km.cluster_centers_ - 1))\n",
    "    outliers = km.labels_ == outliers\n",
    "\n",
    "    return outliers"
   ]
  },
  {
   "cell_type": "code",
   "execution_count": 286,
   "metadata": {},
   "outputs": [],
   "source": [
    "def otsu_thresholding(inp):\n",
    "\n",
    "    hist, bins = np.histogram(inp, bins=214, range=(0, 6))\n",
    "\n",
    "    hist = hist.astype('float64') / np.sum(hist, keepdims=True)\n",
    "\n",
    "    cumsum = np.cumsum(hist)\n",
    "    bins = np.linspace(0, 1, num=214)\n",
    "    prod = hist * bins\n",
    "    cummean = np.cumsum(prod)\n",
    "    glob = np.sum(prod)\n",
    "\n",
    "    sigma = ((glob * cumsum - cummean) ** 2) / (cumsum * (1 - cumsum))\n",
    "    opt = np.argmax(sigma)\n",
    "\n",
    "    return opt\n"
   ]
  },
  {
   "cell_type": "code",
   "execution_count": 287,
   "metadata": {},
   "outputs": [
    {
     "name": "stdout",
     "output_type": "stream",
     "text": [
      "[[ 1.53125 10.73     0.       2.1     69.81     0.58    13.3      3.15\n",
      "   0.28   ]\n",
      " [ 1.51643 12.16     3.52     1.35    72.89     0.57     8.53     0.\n",
      "   0.     ]\n",
      " [ 1.51316 13.02     0.       3.04    70.48     6.21     6.96     0.\n",
      "   0.     ]\n",
      " [ 1.51321 13.       0.       3.02    70.7      6.21     6.93     0.\n",
      "   0.     ]\n",
      " [ 1.51115 17.38     0.       0.34    75.41     0.       6.65     0.\n",
      "   0.     ]\n",
      " [ 1.51831 14.39     0.       1.82    72.86     1.41     6.47     2.88\n",
      "   0.     ]]\n"
     ]
    }
   ],
   "source": [
    "maha = mahalanobis(data)\n",
    "print(data[maha])"
   ]
  },
  {
   "cell_type": "code",
   "execution_count": 288,
   "metadata": {},
   "outputs": [
    {
     "name": "stdout",
     "output_type": "stream",
     "text": [
      "[[ 1.52725 13.8      3.15     0.66    70.57     0.08    11.64     0.\n",
      "   0.     ]\n",
      " [ 1.51299 14.4      1.74     1.54    74.55     0.       7.59     0.\n",
      "   0.     ]\n",
      " [ 1.51115 17.38     0.       0.34    75.41     0.       6.65     0.\n",
      "   0.     ]\n",
      " [ 1.51131 13.69     3.2      1.81    72.81     1.76     5.43     1.19\n",
      "   0.     ]\n",
      " [ 1.52365 15.79     1.83     1.31    70.43     0.31     8.61     1.68\n",
      "   0.     ]\n",
      " [ 1.51831 14.39     0.       1.82    72.86     1.41     6.47     2.88\n",
      "   0.     ]]\n"
     ]
    }
   ],
   "source": [
    "lofs = lof(data,5)\n",
    "print(data[lofs])"
   ]
  },
  {
   "cell_type": "code",
   "execution_count": 289,
   "metadata": {},
   "outputs": [
    {
     "name": "stdout",
     "output_type": "stream",
     "text": [
      "[False]\n"
     ]
    },
    {
     "name": "stderr",
     "output_type": "stream",
     "text": [
      "<__array_function__ internals>:180: RuntimeWarning: Converting input from bool to <class 'numpy.uint8'> for compatibility.\n",
      "/var/folders/fx/m8jghh2j0xn7xvzxjj0rz1sr0000gn/T/ipykernel_75180/3098088794.py:13: RuntimeWarning: invalid value encountered in divide\n",
      "  sigma = ((glob * cumsum - cummean) ** 2) / (cumsum * (1 - cumsum))\n",
      "/var/folders/fx/m8jghh2j0xn7xvzxjj0rz1sr0000gn/T/ipykernel_75180/3098088794.py:5: RuntimeWarning: invalid value encountered in divide\n",
      "  hist = hist.astype('float64') / np.sum(hist, keepdims=True)\n"
     ]
    }
   ],
   "source": [
    "otsu = []\n",
    "for i in range(1,8):\n",
    "    indices = np.where(labels==i)[0]\n",
    "    opt = otsu_thresholding(lofs[indices])\n",
    "    otsu.append(lofs[opt])\n",
    "otsu = np.unique(otsu)\n",
    "\n",
    "print(otsu)"
   ]
  }
 ],
 "metadata": {
  "interpreter": {
   "hash": "aee8b7b246df8f9039afb4144a1f6fd8d2ca17a180786b69acc140d282b71a49"
  },
  "kernelspec": {
   "display_name": "Python 3.10.4 64-bit",
   "language": "python",
   "name": "python3"
  },
  "language_info": {
   "codemirror_mode": {
    "name": "ipython",
    "version": 3
   },
   "file_extension": ".py",
   "mimetype": "text/x-python",
   "name": "python",
   "nbconvert_exporter": "python",
   "pygments_lexer": "ipython3",
   "version": "3.10.4"
  },
  "orig_nbformat": 4
 },
 "nbformat": 4,
 "nbformat_minor": 2
}
