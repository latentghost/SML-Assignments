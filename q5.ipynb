{
 "cells": [
  {
   "cell_type": "code",
   "execution_count": 22,
   "metadata": {},
   "outputs": [],
   "source": [
    "import numpy as np\n",
    "import os\n",
    "import pandas as pd\n",
    "from sklearn.metrics import accuracy_score"
   ]
  },
  {
   "cell_type": "markdown",
   "metadata": {},
   "source": [
    "### Data Pre-processing\n",
    "Target variable *Species* takes values 0,1,2 corresponding to *Iris-setosa, Iris-versicolor, Iris-virginica*  \n",
    "\n",
    "*Species* and *ID* columns are dropped from the dataset"
   ]
  },
  {
   "cell_type": "code",
   "execution_count": 23,
   "metadata": {},
   "outputs": [],
   "source": [
    "data = pd.read_csv(\"../dataset/iris.csv\")\n",
    "\n",
    "data.loc[data['Species']=='Iris-setosa', 'Species'] = 0\n",
    "data.loc[data['Species']=='Iris-versicolor', 'Species'] = 1\n",
    "data.loc[data['Species']=='Iris-virginica', 'Species'] = 2\n",
    "\n",
    "data = data.to_numpy()\n",
    "data = data[:,1:]"
   ]
  },
  {
   "cell_type": "markdown",
   "metadata": {},
   "source": [
    "### Multiclass Logistic Regression\n",
    "Extend logistic regression to a multi-class scenario using the *one-vs-all* approach:  \n",
    "&nbsp;&nbsp;&nbsp;- each classifier is treated as separate case of binary classification  \n",
    "&nbsp;&nbsp;&nbsp;- outputs *theta* of dimension *cx1* where *c* is the no of classes"
   ]
  },
  {
   "cell_type": "code",
   "execution_count": 24,
   "metadata": {},
   "outputs": [],
   "source": [
    "def logistic_regression_multiclass(inp, k):\n",
    "    # sigmoid function\n",
    "    def sigmoid(x):\n",
    "        return 1 / (1 + np.exp(-x))\n",
    "\n",
    "    # split the dataset into a training set and a testing set\n",
    "    traindata = inp[:int(0.9 * len(inp))]\n",
    "    testdata = inp[int(0.9 * len(inp)):]\n",
    "    X_train = traindata[:, :-1]\n",
    "    Y_train = traindata[:, -1].astype('int')\n",
    "    X_test = testdata[:, :-1]\n",
    "    Y_test = testdata[:, -1].astype('int') # casts the target variables as integeres\n",
    "\n",
    "    n, m = X_train.shape\n",
    "    \n",
    "    # initialise theta (parameter) to all 0 entries\n",
    "    theta = np.zeros((m, k))\n",
    "\n",
    "    # maximum iterations\n",
    "    max_iter = 1000\n",
    "\n",
    "    # learning rate\n",
    "    alpha = 0.02\n",
    "\n",
    "    # tolerance value for change in theta\n",
    "    eta = 0.001\n",
    "\n",
    "    for c in range(k):\n",
    "        # create a binary target variable for class c\n",
    "        Y_train_c = (Y_train == c).astype(int)\n",
    "\n",
    "        for i in range(max_iter):\n",
    "            # calculate predicted value for x(i)\n",
    "            p = np.zeros((n,))\n",
    "            for j in range(n):\n",
    "                p[j] = sigmoid(X_train[j].dot(theta[:, c]))\n",
    "\n",
    "            # update theta by gradient descent algorithm\n",
    "            newtheta = theta[:, c] - alpha * ((X_train.T).dot(p - Y_train_c)) / n\n",
    "            if (np.abs(newtheta - theta[:, c]) <= eta).all():\n",
    "                break\n",
    "            theta[:, c] = newtheta\n",
    "\n",
    "    # calculate sigmoid function value for each data point\n",
    "    # binary classification is based on the value of the sigmoid function about a threshold of 0.5\n",
    "    probs = sigmoid(X_test.dot(theta).astype('float64'))\n",
    "    pred = np.argmax(probs, axis=1)\n",
    "    return 100 * accuracy_score(Y_test, pred)"
   ]
  },
  {
   "cell_type": "code",
   "execution_count": 25,
   "metadata": {},
   "outputs": [
    {
     "name": "stdout",
     "output_type": "stream",
     "text": [
      "93.33333333333333\n"
     ]
    }
   ],
   "source": [
    "acc = logistic_regression_multiclass(data,3)\n",
    "print(acc)"
   ]
  }
 ],
 "metadata": {
  "interpreter": {
   "hash": "aee8b7b246df8f9039afb4144a1f6fd8d2ca17a180786b69acc140d282b71a49"
  },
  "kernelspec": {
   "display_name": "Python 3.10.4 64-bit",
   "language": "python",
   "name": "python3"
  },
  "language_info": {
   "codemirror_mode": {
    "name": "ipython",
    "version": 3
   },
   "file_extension": ".py",
   "mimetype": "text/x-python",
   "name": "python",
   "nbconvert_exporter": "python",
   "pygments_lexer": "ipython3",
   "version": "3.10.4"
  },
  "orig_nbformat": 4
 },
 "nbformat": 4,
 "nbformat_minor": 2
}
