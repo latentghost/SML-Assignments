{
 "cells": [
  {
   "cell_type": "code",
   "execution_count": 13,
   "metadata": {},
   "outputs": [],
   "source": [
    "import numpy as np\n",
    "import os\n",
    "import pandas as pd\n",
    "from sklearn.metrics import accuracy_score"
   ]
  },
  {
   "cell_type": "code",
   "execution_count": 14,
   "metadata": {},
   "outputs": [],
   "source": [
    "data = pd.read_csv(\"../dataset/iris.csv\")\n",
    "\n",
    "data.loc[data['Species']=='Iris-setosa', 'Species'] = 0\n",
    "data.loc[data['Species']=='Iris-versicolor', 'Species'] = 1\n",
    "data.loc[data['Species']=='Iris-virginica', 'Species'] = 2\n",
    "\n",
    "data = data.to_numpy()\n",
    "data = data[:,1:]"
   ]
  },
  {
   "cell_type": "code",
   "execution_count": 15,
   "metadata": {},
   "outputs": [],
   "source": [
    "def logistic_regression_multiclass(inp, k):\n",
    "    def sigmoid(x):\n",
    "        return 1 / (1 + np.exp(-x))\n",
    "\n",
    "    traindata = inp[:int(0.9 * len(inp))]\n",
    "    testdata = inp[int(0.9 * len(inp)):]\n",
    "    X_train = traindata[:, :-1]\n",
    "    Y_train = traindata[:, -1]\n",
    "    X_test = testdata[:, :-1]\n",
    "    Y_test = testdata[:, -1].astype('int')\n",
    "\n",
    "    n, m = X_train.shape\n",
    "    theta = np.zeros((m, k))\n",
    "    max_iter = 1000\n",
    "    alpha = 0.02\n",
    "\n",
    "    for c in range(k):\n",
    "        # Create a binary target variable for class c\n",
    "        Y_train_c = (Y_train == c).astype(int)\n",
    "\n",
    "        for i in range(max_iter):\n",
    "            p = np.zeros((n,))\n",
    "            for j in range(n):\n",
    "                p[j] = sigmoid(X_train[j].dot(theta[:, c]))\n",
    "            newtheta = theta[:, c] - alpha * ((X_train.T).dot(p - Y_train_c)) / n\n",
    "            if (np.abs(newtheta - theta[:, c]) <= 0.001).all():\n",
    "                break\n",
    "            theta[:, c] = newtheta\n",
    "\n",
    "    probs = sigmoid(X_test.dot(theta).astype('float64'))\n",
    "    pred = np.argmax(probs, axis=1)\n",
    "    return 100 * accuracy_score(Y_test, pred)"
   ]
  },
  {
   "cell_type": "code",
   "execution_count": 16,
   "metadata": {},
   "outputs": [
    {
     "name": "stdout",
     "output_type": "stream",
     "text": [
      "93.33333333333333\n"
     ]
    }
   ],
   "source": [
    "acc = logistic_regression_multiclass(data,3)\n",
    "print(acc)"
   ]
  }
 ],
 "metadata": {
  "interpreter": {
   "hash": "aee8b7b246df8f9039afb4144a1f6fd8d2ca17a180786b69acc140d282b71a49"
  },
  "kernelspec": {
   "display_name": "Python 3.10.4 64-bit",
   "language": "python",
   "name": "python3"
  },
  "language_info": {
   "codemirror_mode": {
    "name": "ipython",
    "version": 3
   },
   "file_extension": ".py",
   "mimetype": "text/x-python",
   "name": "python",
   "nbconvert_exporter": "python",
   "pygments_lexer": "ipython3",
   "version": "3.10.4"
  },
  "orig_nbformat": 4
 },
 "nbformat": 4,
 "nbformat_minor": 2
}
